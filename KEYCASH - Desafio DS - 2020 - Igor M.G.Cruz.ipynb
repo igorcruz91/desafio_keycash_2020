{
 "cells": [
  {
   "cell_type": "code",
   "execution_count": 2,
   "metadata": {},
   "outputs": [],
   "source": [
    "import pandas as pd\n",
    "import numpy as np\n",
    "import matplotlib.pyplot as plt\n",
    "from scipy.optimize import curve_fit\n",
    "%matplotlib inline"
   ]
  },
  {
   "cell_type": "code",
   "execution_count": 3,
   "metadata": {
    "scrolled": false
   },
   "outputs": [],
   "source": [
    "#Crio uma variável 'arq' na qual armazena o arquivo a ser aberto\n",
    "arq = 'C:\\\\Users\\\\Samsung\\\\DS\\\\keycash\\\\Desafio_DS.xlsx'\n",
    "\n",
    "#Crio uma variável 'cab' na qual descreve as colunas da tabela a serem analisadas\n",
    "cab = [\"fonte\", \"codigo\", \"nome\", \"status\", \"num_pessoas\", \"num_quartos\", \n",
    "       \"check_in\", \"check_out\", \"reservado\", \"receita_bruta_estimada\", \"cod_pais\",\n",
    "       \"cod_estado\", \"telefone_1\"\n",
    "      ]"
   ]
  },
  {
   "cell_type": "code",
   "execution_count": 4,
   "metadata": {},
   "outputs": [],
   "source": [
    "#Associo o DataFrame ao nome 'keycash'\n",
    "keycash = pd.read_excel(arq,sheet_name=\"Reservas\",\n",
    "                        header = None ,\n",
    "                        names = np.array(cab),\n",
    "                        skiprows = 1\n",
    "                       )"
   ]
  },
  {
   "cell_type": "code",
   "execution_count": 5,
   "metadata": {},
   "outputs": [
    {
     "data": {
      "text/plain": [
       "(5192, 13)"
      ]
     },
     "execution_count": 5,
     "metadata": {},
     "output_type": "execute_result"
    }
   ],
   "source": [
    "#Amostragem simples das 5 primeiras linhas a serem analisadas\n",
    "keycash.head()\n",
    "keycash.shape"
   ]
  },
  {
   "cell_type": "code",
   "execution_count": 6,
   "metadata": {
    "scrolled": true
   },
   "outputs": [
    {
     "data": {
      "text/html": [
       "<div>\n",
       "<style scoped>\n",
       "    .dataframe tbody tr th:only-of-type {\n",
       "        vertical-align: middle;\n",
       "    }\n",
       "\n",
       "    .dataframe tbody tr th {\n",
       "        vertical-align: top;\n",
       "    }\n",
       "\n",
       "    .dataframe thead th {\n",
       "        text-align: right;\n",
       "    }\n",
       "</style>\n",
       "<table border=\"1\" class=\"dataframe\">\n",
       "  <thead>\n",
       "    <tr style=\"text-align: right;\">\n",
       "      <th></th>\n",
       "      <th>fonte</th>\n",
       "      <th>codigo</th>\n",
       "      <th>nome</th>\n",
       "      <th>status</th>\n",
       "      <th>num_pessoas</th>\n",
       "      <th>num_quartos</th>\n",
       "      <th>check_in</th>\n",
       "      <th>check_out</th>\n",
       "      <th>reservado</th>\n",
       "      <th>receita_bruta_estimada</th>\n",
       "      <th>cod_pais</th>\n",
       "      <th>cod_estado</th>\n",
       "      <th>telefone_1</th>\n",
       "    </tr>\n",
       "  </thead>\n",
       "  <tbody>\n",
       "    <tr>\n",
       "      <td>0</td>\n",
       "      <td>Site A</td>\n",
       "      <td>6196436</td>\n",
       "      <td>Skylar Farley</td>\n",
       "      <td>Confirmada</td>\n",
       "      <td>1</td>\n",
       "      <td>1</td>\n",
       "      <td>2019-03-10</td>\n",
       "      <td>2019-03-18</td>\n",
       "      <td>2019-02-04</td>\n",
       "      <td>165.50625</td>\n",
       "      <td>55.0</td>\n",
       "      <td>31.0</td>\n",
       "      <td>924742002.0</td>\n",
       "    </tr>\n",
       "    <tr>\n",
       "      <td>1</td>\n",
       "      <td>Site A</td>\n",
       "      <td>51250592</td>\n",
       "      <td>Mira Gaines</td>\n",
       "      <td>Confirmada</td>\n",
       "      <td>1</td>\n",
       "      <td>1</td>\n",
       "      <td>2019-03-01</td>\n",
       "      <td>2019-03-16</td>\n",
       "      <td>2019-02-04</td>\n",
       "      <td>382.06875</td>\n",
       "      <td>55.0</td>\n",
       "      <td>551.0</td>\n",
       "      <td>938852939.0</td>\n",
       "    </tr>\n",
       "    <tr>\n",
       "      <td>2</td>\n",
       "      <td>Site A</td>\n",
       "      <td>83668198</td>\n",
       "      <td>Jayleen Lowe</td>\n",
       "      <td>Confirmada</td>\n",
       "      <td>2</td>\n",
       "      <td>1</td>\n",
       "      <td>2019-04-05</td>\n",
       "      <td>2019-04-08</td>\n",
       "      <td>2019-02-04</td>\n",
       "      <td>85.85850</td>\n",
       "      <td>55.0</td>\n",
       "      <td>53.0</td>\n",
       "      <td>NaN</td>\n",
       "    </tr>\n",
       "    <tr>\n",
       "      <td>3</td>\n",
       "      <td>Site A</td>\n",
       "      <td>50170872</td>\n",
       "      <td>Felipe Orozco</td>\n",
       "      <td>Confirmada</td>\n",
       "      <td>2</td>\n",
       "      <td>1</td>\n",
       "      <td>2019-03-01</td>\n",
       "      <td>2019-03-06</td>\n",
       "      <td>2019-02-04</td>\n",
       "      <td>118.65525</td>\n",
       "      <td>57.0</td>\n",
       "      <td>300.0</td>\n",
       "      <td>NaN</td>\n",
       "    </tr>\n",
       "    <tr>\n",
       "      <td>4</td>\n",
       "      <td>Site A</td>\n",
       "      <td>21737901</td>\n",
       "      <td>Sophie Rivers</td>\n",
       "      <td>Confirmada</td>\n",
       "      <td>2</td>\n",
       "      <td>1</td>\n",
       "      <td>2019-04-03</td>\n",
       "      <td>2019-04-07</td>\n",
       "      <td>2019-02-05</td>\n",
       "      <td>108.47025</td>\n",
       "      <td>55.0</td>\n",
       "      <td>11.0</td>\n",
       "      <td>NaN</td>\n",
       "    </tr>\n",
       "  </tbody>\n",
       "</table>\n",
       "</div>"
      ],
      "text/plain": [
       "    fonte    codigo           nome      status  num_pessoas  num_quartos  \\\n",
       "0  Site A   6196436  Skylar Farley  Confirmada            1            1   \n",
       "1  Site A  51250592    Mira Gaines  Confirmada            1            1   \n",
       "2  Site A  83668198   Jayleen Lowe  Confirmada            2            1   \n",
       "3  Site A  50170872  Felipe Orozco  Confirmada            2            1   \n",
       "4  Site A  21737901  Sophie Rivers  Confirmada            2            1   \n",
       "\n",
       "    check_in  check_out  reservado  receita_bruta_estimada  cod_pais  \\\n",
       "0 2019-03-10 2019-03-18 2019-02-04               165.50625      55.0   \n",
       "1 2019-03-01 2019-03-16 2019-02-04               382.06875      55.0   \n",
       "2 2019-04-05 2019-04-08 2019-02-04                85.85850      55.0   \n",
       "3 2019-03-01 2019-03-06 2019-02-04               118.65525      57.0   \n",
       "4 2019-04-03 2019-04-07 2019-02-05               108.47025      55.0   \n",
       "\n",
       "   cod_estado   telefone_1  \n",
       "0        31.0  924742002.0  \n",
       "1       551.0  938852939.0  \n",
       "2        53.0          NaN  \n",
       "3       300.0          NaN  \n",
       "4        11.0          NaN  "
      ]
     },
     "execution_count": 6,
     "metadata": {},
     "output_type": "execute_result"
    }
   ],
   "source": [
    "#Transformando as colunas 'check_in' e 'check_out' em datatype64\n",
    "keycash['check_in'] = pd.to_datetime(keycash['check_in'])\n",
    "keycash['check_out'] = pd.to_datetime(keycash['check_out'])\n",
    "\n",
    "#Organizando de forma crescente os dias de 'check_in'\n",
    "keycash.sort_values('check_in')\n",
    "\n",
    "#Considerando apenas dados em que a receita bruta estimada é maior que 0\n",
    "#no qual coincide com 'status' de reservas confirmadas\n",
    "keycash = keycash[keycash['receita_bruta_estimada'] > 0]\n",
    "keycash.head()"
   ]
  },
  {
   "cell_type": "markdown",
   "metadata": {},
   "source": [
    "Vamos realizar uma estimativa de crescimento sobre as unidades disponíveis da Keycash, para prever se o aumento no número condiz com oque a empresa deseja, ou seja, um aumento para 200 unidades nos próximos meses:"
   ]
  },
  {
   "cell_type": "code",
   "execution_count": 7,
   "metadata": {},
   "outputs": [
    {
     "name": "stdout",
     "output_type": "stream",
     "text": [
      "          Mês/Ano  Unidades\n",
      "0  Fevereiro/2019        10\n",
      "1      Março/2019        11\n",
      "2      Abril/2019        17\n",
      "3       Maio/2019        22\n",
      "4      Junho/2019        54\n",
      "5      Julho/2019        59\n",
      "6     Agosto/2019        91\n",
      "7   Setembro/2019        92\n",
      "8    Outubro/2019        92\n",
      "9   Novembro/2019       138\n"
     ]
    }
   ],
   "source": [
    "data = { 'Mês/Ano': ['Fevereiro/2019', 'Março/2019', 'Abril/2019', 'Maio/2019', 'Junho/2019', \n",
    "                     'Julho/2019', 'Agosto/2019', 'Setembro/2019', 'Outubro/2019', 'Novembro/2019'],\n",
    "        'Unidades': [10, 11, 17, 22, 54, 59, 91, 92, 92, 138]\n",
    "       }\n",
    "\n",
    "df = pd.DataFrame(data, columns = ['Mês/Ano', 'Unidades'])\n",
    "print(df)"
   ]
  },
  {
   "cell_type": "markdown",
   "metadata": {},
   "source": [
    "Gráfico sobre a estimativa de aumento de unidades da Keycash"
   ]
  },
  {
   "cell_type": "code",
   "execution_count": 20,
   "metadata": {
    "scrolled": true
   },
   "outputs": [
    {
     "data": {
      "image/png": "[encoded data removed]",
      "text/plain": [
       "<Figure size 432x288 with 1 Axes>"
      ]
     },
     "metadata": {
      "needs_background": "light"
     },
     "output_type": "display_data"
    }
   ],
   "source": [
    "plt.scatter(df['Mês/Ano'], df['Unidades'])\n",
    "plt.xlabel('Mês/Ano')\n",
    "plt.xticks(rotation=90)\n",
    "plt.ylabel('Unidades')\n",
    "plt.title('Estimativa Mês/Ano x Unidades')\n",
    "plt.show()"
   ]
  },
  {
   "cell_type": "markdown",
   "metadata": {},
   "source": [
    "Determinando a melhor curva que descreve os dados"
   ]
  },
  {
   "cell_type": "code",
   "execution_count": 23,
   "metadata": {
    "scrolled": true
   },
   "outputs": [
    {
     "name": "stdout",
     "output_type": "stream",
     "text": [
      "[10.65282175  0.23244039]\n"
     ]
    },
    {
     "data": {
      "image/png": "[encoded data removed]",
      "text/plain": [
       "<Figure size 432x288 with 1 Axes>"
      ]
     },
     "metadata": {
      "needs_background": "light"
     },
     "output_type": "display_data"
    }
   ],
   "source": [
    "#Determinando a função \n",
    "def func(x, a, b):\n",
    "    return a*np.exp(b*x)\n",
    "\n",
    "#Determinando os pontos experimentais\n",
    "x = np.array([2, 3, 4, 5, 6, 7, 8, 9, 10, 11])\n",
    "y = np.array([10, 11, 17, 22, 54, 59, 91, 92, 92, 138])\n",
    "\n",
    "#Plotando pontos experimentais\n",
    "plt.plot(x, y, 'bo', label ='dados')\n",
    "\n",
    "\n",
    "#Fazendo o curve fitting\n",
    "popt, pcov = curve_fit(func, x, y)\n",
    "print(popt)\n",
    "\n",
    "#Plotting the fitted curve\n",
    "plt.plot(x, func(x, *popt), 'r', label ='curve fit')\n",
    "plt.xlabel('Mês')\n",
    "plt.ylabel('Unidades')\n",
    "plt.title('Estimativa Unidades por Mês')\n",
    "plt.savefig('estimativa_unidades_mes.png', bbox_inches='tight')\n",
    "plt.show()"
   ]
  },
  {
   "cell_type": "code",
   "execution_count": 22,
   "metadata": {},
   "outputs": [
    {
     "name": "stdout",
     "output_type": "stream",
     "text": [
      "A estimativa para o número de unidades disponíveis em Dezembro 19' é de 173.0\n",
      "A estimativa para o número de unidades disponíveis em Janeiro 20' é de 219.0\n",
      "A estimativa para o número de unidades disponíveis em Fevereiro 20' é de 276.0\n"
     ]
    }
   ],
   "source": [
    "a = 10.65282175\n",
    "b = 0.23244039\n",
    "est_dezembro = func(12, a, b)\n",
    "est_janeiro = func(13, a, b)\n",
    "est_fevereiro = func(14, a, b)\n",
    "print(\"A estimativa para o número de unidades disponíveis em Dezembro 19' é de\", round(est_dezembro))\n",
    "print(\"A estimativa para o número de unidades disponíveis em Janeiro 20' é de\", round(est_janeiro))\n",
    "print(\"A estimativa para o número de unidades disponíveis em Fevereiro 20' é de\", round(est_fevereiro))"
   ]
  },
  {
   "cell_type": "markdown",
   "metadata": {},
   "source": [
    "Abaixo observamos os valores brutos distribuídos por todos os meses, para se ter apenas uma ideia de quais regiões são mais densas de acordo com os preços de estadia."
   ]
  },
  {
   "cell_type": "code",
   "execution_count": 24,
   "metadata": {},
   "outputs": [
    {
     "data": {
      "image/png": "[encoded data removed]",
      "text/plain": [
       "<Figure size 432x288 with 1 Axes>"
      ]
     },
     "metadata": {
      "needs_background": "light"
     },
     "output_type": "display_data"
    }
   ],
   "source": [
    "#Gráfico dos valores brutos para cada estadia\n",
    "\n",
    "l = keycash['check_in']\n",
    "k = keycash['receita_bruta_estimada']\n",
    "\n",
    "plt.scatter(l, k)\n",
    "plt.xlabel('Check in')\n",
    "plt.xticks(rotation=90)\n",
    "plt.ylabel('Receita')\n",
    "plt.title('Receita x Período')\n",
    "plt.savefig('densidade.png', bbox_inches='tight')\n",
    "plt.show()"
   ]
  },
  {
   "cell_type": "markdown",
   "metadata": {},
   "source": [
    "Por conta dos valores de estadia serem variados, uma estratégia é trabalharmos com os valores médios de estadia de cada mês para relizarmos nossa análise."
   ]
  },
  {
   "cell_type": "code",
   "execution_count": 18,
   "metadata": {},
   "outputs": [
    {
     "name": "stdout",
     "output_type": "stream",
     "text": [
      "A receita média do mês de Fevereiro, de uma unidade, foi de  73.5 $\n",
      "A receita média do mês de Março, de uma unidade, foi de  88.1 $\n",
      "A receita média do mês de Abril, de uma unidade, foi de  96.9 $\n",
      "A receita média do mês de Maio, de uma unidade, foi de  87.5 $\n",
      "A receita média do mês de Junho, de uma unidade, foi de  94.7 $\n",
      "A receita média do mês de Julho, de uma unidade, foi de  99.3 $\n",
      "A receita média do mês de Agosto, de uma unidade, foi de  102.2 $\n",
      "A receita média do mês de Setembro, de uma unidade, foi de  106.8 $\n",
      "A receita média do mês de Outubro, de uma unidade, foi de  97.6 $\n",
      "A receita média do mês de Novembro, de uma unidade, foi de  106.3 $\n",
      "A receita média do mês de Dezembro, de uma unidade, foi de  138.6 $\n"
     ]
    }
   ],
   "source": [
    "#Calculando as médias de receita para cada mês (Fev-Dez 19')\n",
    "\n",
    "#Fevereiro\n",
    "fev = (keycash['check_in'] >= '2019-02-01') & (keycash['check_in'] <= '2019-02-28')\n",
    "keycash_fev = keycash[fev]\n",
    "media_fev = keycash_fev['receita_bruta_estimada'].mean()\n",
    "print('A receita média do mês de Fevereiro, de uma unidade, foi de ', round(media_fev,1),'$')\n",
    "\n",
    "#Março\n",
    "mar = (keycash['check_in'] >= '2019-03-01') & (keycash['check_in'] <= '2019-03-31')\n",
    "keycash_mar = keycash[mar]\n",
    "media_mar = keycash_mar['receita_bruta_estimada'].mean()\n",
    "print('A receita média do mês de Março, de uma unidade, foi de ', round(media_mar,1),'$')\n",
    "\n",
    "#Abril\n",
    "abr = (keycash['check_in'] >= '2019-04-01') & (keycash['check_in'] <= '2019-04-30')\n",
    "keycash_abr = keycash[abr]\n",
    "media_abr = keycash_abr['receita_bruta_estimada'].mean()\n",
    "print('A receita média do mês de Abril, de uma unidade, foi de ', round(media_abr,1),'$')\n",
    "\n",
    "#Maio\n",
    "mai = (keycash['check_in'] >= '2019-05-01') & (keycash['check_in'] <= '2019-05-31')\n",
    "keycash_mai = keycash[mai]\n",
    "media_mai = keycash_mai['receita_bruta_estimada'].mean()\n",
    "print('A receita média do mês de Maio, de uma unidade, foi de ', round(media_mai,1),'$')\n",
    "\n",
    "#Junho\n",
    "jun = (keycash['check_in'] >= '2019-06-01') & (keycash['check_in'] <= '2019-06-30')\n",
    "keycash_jun = keycash[jun]\n",
    "media_jun = keycash_jun['receita_bruta_estimada'].mean()\n",
    "print('A receita média do mês de Junho, de uma unidade, foi de ', round(media_jun,1),'$')\n",
    "\n",
    "#Julho\n",
    "jul = (keycash['check_in'] >= '2019-07-01') & (keycash['check_in'] <= '2019-07-31')\n",
    "keycash_jul = keycash[jul]\n",
    "media_jul = keycash_jul['receita_bruta_estimada'].mean()\n",
    "print('A receita média do mês de Julho, de uma unidade, foi de ', round(media_jul,1),'$')\n",
    "\n",
    "#Agosto\n",
    "ago = (keycash['check_in'] >= '2019-08-01') & (keycash['check_in'] <= '2019-08-31')\n",
    "keycash_ago = keycash[ago]\n",
    "media_ago = keycash_ago['receita_bruta_estimada'].mean()\n",
    "print('A receita média do mês de Agosto, de uma unidade, foi de ', round(media_ago,1),'$')\n",
    "\n",
    "#Setembro\n",
    "sep = (keycash['check_in'] >= '2019-09-01') & (keycash['check_in'] <= '2019-09-30')\n",
    "keycash_sep = keycash[sep]\n",
    "media_sep = keycash_sep['receita_bruta_estimada'].mean()\n",
    "print('A receita média do mês de Setembro, de uma unidade, foi de ', round(media_sep,1),'$')\n",
    "\n",
    "#Outubro\n",
    "out = (keycash['check_in'] >= '2019-10-01') & (keycash['check_in'] <= '2019-10-31')\n",
    "keycash_out = keycash[out]\n",
    "media_out = keycash_out['receita_bruta_estimada'].mean()\n",
    "print('A receita média do mês de Outubro, de uma unidade, foi de ', round(media_out,1),'$')\n",
    "\n",
    "#Novembro\n",
    "nov = (keycash['check_in'] >= '2019-11-01') & (keycash['check_in'] <= '2019-11-30')\n",
    "keycash_nov = keycash[nov]\n",
    "media_nov = keycash_nov['receita_bruta_estimada'].mean()\n",
    "print('A receita média do mês de Novembro, de uma unidade, foi de ', round(media_nov,1),'$')\n",
    "\n",
    "#Dezembro\n",
    "dez = (keycash['check_in'] >= '2019-12-01') & (keycash['check_in'] <= '2019-12-31')\n",
    "keycash_dez = keycash[dez]\n",
    "media_dez = keycash_dez['receita_bruta_estimada'].mean()\n",
    "print('A receita média do mês de Dezembro, de uma unidade, foi de ', round(media_dez,1),'$')"
   ]
  },
  {
   "cell_type": "markdown",
   "metadata": {},
   "source": [
    "Com os valores médios referentes a uma estadia de uma unidade para cada mês, realizaremos uma regressão no gráfico das receitas por período para assim conseguirmos determinar uma estimativa de meses futuros."
   ]
  },
  {
   "cell_type": "code",
   "execution_count": 19,
   "metadata": {},
   "outputs": [
    {
     "name": "stdout",
     "output_type": "stream",
     "text": [
      "[ 4.05867937 70.81926074]\n"
     ]
    },
    {
     "data": {
      "image/png": "[encoded data removed]",
      "text/plain": [
       "<Figure size 432x288 with 1 Axes>"
      ]
     },
     "metadata": {
      "needs_background": "light"
     },
     "output_type": "display_data"
    }
   ],
   "source": [
    "#Gráfico da estimativa de receita\n",
    "\n",
    "#Determinando a função\n",
    "def func_lin(x, a, b):\n",
    "    return a*x+b\n",
    "    \n",
    "#Dados experimentais\n",
    "x = np.array([2,3,4,5,6,7,8,9,10,11,12])\n",
    "y = np.array([media_fev, media_mar, media_abr,media_mai,media_jun, media_jul, media_ago, media_sep, media_out, media_nov, media_dez])\n",
    "\n",
    "plt.plot(x, y, 'bo')\n",
    "\n",
    "#Fazendo o curve fitting\n",
    "popt, pcov = curve_fit(func_lin, x, y)\n",
    "print(popt)\n",
    "\n",
    "#Plotting the fitted curve\n",
    "plt.plot(x, func_lin(x, *popt), 'r', label ='curve fit')\n",
    "plt.xlabel('Mês')\n",
    "plt.ylabel('Receita bruta média($)')\n",
    "plt.title('Estimativa Receita Bruta Média por unidade')\n",
    "plt.savefig('estimativa_receita_mes.png', bbox_inches='tight')\n",
    "plt.show()"
   ]
  },
  {
   "cell_type": "code",
   "execution_count": 9,
   "metadata": {},
   "outputs": [
    {
     "name": "stdout",
     "output_type": "stream",
     "text": [
      "O forecast para Dez 19' é de  120 $ por unidade\n",
      "O forecast para Jan 20' é de  124 $ por unidade\n",
      "O forecast para Fev 20' é de  128 $ por unidade\n"
     ]
    }
   ],
   "source": [
    "#Forecast para os meses de Jan 20' e Fev 20'\n",
    "\n",
    "forecast_dez = (4.05867937)*12 + 70.81926074\n",
    "forecast_jan = (4.05867937)*13 + 70.81926074\n",
    "forecast_fev = (4.05867937)*14 + 70.81926074\n",
    "print(\"O forecast para Dez 19' é de \", round(forecast_dez),'$', 'por unidade')\n",
    "print(\"O forecast para Jan 20' é de \", round(forecast_jan),'$', 'por unidade')\n",
    "print(\"O forecast para Fev 20' é de \", round(forecast_fev),'$', 'por unidade')"
   ]
  },
  {
   "cell_type": "markdown",
   "metadata": {},
   "source": [
    "Abaixo calcularemos a quantidade de reservas confirmadas em cada mês de 2019"
   ]
  },
  {
   "cell_type": "code",
   "execution_count": 26,
   "metadata": {},
   "outputs": [
    {
     "name": "stdout",
     "output_type": "stream",
     "text": [
      "No mês de Fevereiro houve um total de 40 reservas confirmadas\n",
      "No mês de Março houve um total de 106 reservas confirmadas\n",
      "No mês de Abril houve um total de 113 reservas confirmadas\n",
      "No mês de Maio houve um total de 217 reservas confirmadas\n",
      "No mês de Junho houve um total de 491 reservas confirmadas\n",
      "No mês de Julho houve um total de 545 reservas confirmadas\n",
      "No mês de Agosto houve um total de 650 reservas confirmadas\n",
      "No mês de Setembro houve um total de 682 reservas confirmadas\n",
      "No mês de Outubro houve um total de 599 reservas confirmadas\n",
      "No mês de Novembro houve um total de 830 reservas confirmadas\n",
      "No mês de Dezembro houve um total de 176 reservas confirmadas\n"
     ]
    }
   ],
   "source": [
    "#Calculando a quantidade de reservas por mês em 19'\n",
    "\n",
    "#Fev 19'\n",
    "keycash_fev = keycash[fev]\n",
    "volume_fev = len(keycash_fev)\n",
    "print('No mês de Fevereiro houve um total de', volume_fev, 'reservas confirmadas')\n",
    "\n",
    "#Março 19'\n",
    "keycash_mar = keycash[mar]\n",
    "volume_mar = len(keycash_mar)\n",
    "print('No mês de Março houve um total de', volume_mar, 'reservas confirmadas')\n",
    "\n",
    "#Abril 19'\n",
    "keycash_abr = keycash[abr]\n",
    "volume_abr = len(keycash_abr)\n",
    "print('No mês de Abril houve um total de', volume_abr, 'reservas confirmadas')\n",
    "\n",
    "#Maio 19'\n",
    "keycash_mai = keycash[mai]\n",
    "volume_mai = len(keycash_mai)\n",
    "print('No mês de Maio houve um total de', volume_mai, 'reservas confirmadas')\n",
    "\n",
    "#Junho 19'\n",
    "keycash_jun = keycash[jun]\n",
    "volume_jun = len(keycash_jun)\n",
    "print('No mês de Junho houve um total de', volume_jun, 'reservas confirmadas')\n",
    "\n",
    "#Julho 19'\n",
    "keycash_jul = keycash[jul]\n",
    "volume_jul = len(keycash_jul)\n",
    "print('No mês de Julho houve um total de', volume_jul, 'reservas confirmadas')\n",
    "\n",
    "#Agosto 19'\n",
    "keycash_ago = keycash[ago]\n",
    "volume_ago = len(keycash_ago)\n",
    "print('No mês de Agosto houve um total de', volume_ago, 'reservas confirmadas')\n",
    "\n",
    "#Setembro 19'\n",
    "keycash_sep = keycash[sep]\n",
    "volume_sep = len(keycash_sep)\n",
    "print('No mês de Setembro houve um total de', volume_sep, 'reservas confirmadas')\n",
    "\n",
    "#Outubro 19'\n",
    "keycash_out = keycash[out]\n",
    "volume_out = len(keycash_out)\n",
    "print('No mês de Outubro houve um total de', volume_out, 'reservas confirmadas')\n",
    "\n",
    "#Novembro 19'\n",
    "keycash_nov = keycash[nov]\n",
    "volume_nov = len(keycash_nov)\n",
    "print('No mês de Novembro houve um total de', volume_nov, 'reservas confirmadas')\n",
    "\n",
    "#Dezembro 19'\n",
    "keycash_dez = keycash[dez]\n",
    "volume_dez = len(keycash_dez)\n",
    "print('No mês de Dezembro houve um total de', volume_dez, 'reservas confirmadas')"
   ]
  },
  {
   "cell_type": "markdown",
   "metadata": {},
   "source": [
    "Abaixo calcularemos a receita média bruta de cada mês, multiplicando o valor médio de uma unidade do mês correspondente, multiplicado pelo volume de reservas confirmadas no mesmo mês:"
   ]
  },
  {
   "cell_type": "code",
   "execution_count": 27,
   "metadata": {},
   "outputs": [
    {
     "name": "stdout",
     "output_type": "stream",
     "text": [
      "No mês de Fev 19' a receita média bruta é de 2941.02 $\n",
      "No mês de Mar 19' a receita média bruta é de 9338.39 $\n",
      "No mês de Abril 19' a receita média bruta é de 10945.2 $\n",
      "No mês de Maio 19' a receita média bruta é de 18987.92 $\n",
      "No mês de Junho 19' a receita média bruta é de 46519.37 $\n",
      "No mês de Julho 19' a receita média bruta é de 54104.89 $\n",
      "No mês de Agosto 19' a receita média bruta é de 64528.77 $\n",
      "No mês de Setembro 19' a receita média bruta é de 72856.52 $\n",
      "No mês de Outubro 19' a receita média bruta é de 58460.62 $\n",
      "No mês de Novembro 19' a receita média bruta é de 88254.82 $\n",
      "No mês de Dezembro 19' a receita média bruta é de 24387.56 $\n"
     ]
    }
   ],
   "source": [
    "#Calculando a receita média bruta para cada mês\n",
    "#multiplicando o número de reservas confirmadas naquele mês \n",
    "#pela média de custo de uma unidade no mesmo mês\n",
    "\n",
    "#Fev 19'\n",
    "fev = media_fev*volume_fev\n",
    "print(\"No mês de Fev 19' a receita média bruta é de\", round(fev,2), '$')\n",
    "\n",
    "#Março 19'\n",
    "mar = media_mar*volume_mar\n",
    "print(\"No mês de Mar 19' a receita média bruta é de\", round(mar,2), '$')\n",
    "\n",
    "#Abril 19'\n",
    "abr = media_abr*volume_abr\n",
    "print(\"No mês de Abril 19' a receita média bruta é de\", round(abr,2), '$')\n",
    "\n",
    "#Maio 19'\n",
    "mai = media_mai*volume_mai\n",
    "print(\"No mês de Maio 19' a receita média bruta é de\", round(mai,2), '$')\n",
    "\n",
    "#Junho 19'\n",
    "jun = media_jun*volume_jun\n",
    "print(\"No mês de Junho 19' a receita média bruta é de\", round(jun,2), '$')\n",
    "\n",
    "#Julho 19'\n",
    "jul = media_jul*volume_jul\n",
    "print(\"No mês de Julho 19' a receita média bruta é de\", round(jul,2), '$')\n",
    "\n",
    "#Agosto 19'\n",
    "ago = media_jul*volume_ago\n",
    "print(\"No mês de Agosto 19' a receita média bruta é de\", round(ago,2), '$')\n",
    "\n",
    "#Setembro 19'\n",
    "sep = media_sep*volume_sep\n",
    "print(\"No mês de Setembro 19' a receita média bruta é de\", round(sep,2), '$')\n",
    "\n",
    "#Outubro 19'\n",
    "out = media_out*volume_out\n",
    "print(\"No mês de Outubro 19' a receita média bruta é de\", round(out,2), '$')\n",
    "\n",
    "#Novembro 19'\n",
    "nov = media_nov*volume_nov\n",
    "print(\"No mês de Novembro 19' a receita média bruta é de\", round(nov,2), '$')\n",
    "\n",
    "#Dezembro 19'\n",
    "dez = media_dez*volume_dez\n",
    "print(\"No mês de Dezembro 19' a receita média bruta é de\", round(dez,2), '$')"
   ]
  },
  {
   "cell_type": "markdown",
   "metadata": {},
   "source": [
    "Com esses valores de receitas médias, é possível estimar o número de reservas para Janeiro e Fevereiro de 2020"
   ]
  },
  {
   "cell_type": "code",
   "execution_count": 28,
   "metadata": {},
   "outputs": [
    {
     "name": "stdout",
     "output_type": "stream",
     "text": [
      "[  89.44848439 -154.1151476 ]\n"
     ]
    },
    {
     "data": {
      "image/png": "[encoded data removed]",
      "text/plain": [
       "<Figure size 432x288 with 1 Axes>"
      ]
     },
     "metadata": {
      "needs_background": "light"
     },
     "output_type": "display_data"
    }
   ],
   "source": [
    "#Estimando o número de reservas para os meses de Jan 20' e Fev 20'\n",
    "\n",
    "#Gráfico do (Volume de Reservas x Mês)\n",
    "x = np.array([2,3,4,5,6,7,8,9,10,11])\n",
    "yData = np.array([volume_fev, volume_mar, volume_abr, volume_mai, volume_jun,\n",
    "         volume_jul, volume_ago, volume_sep, volume_out, volume_nov])\n",
    "plt.plot(x, yData, 'bo')\n",
    "\n",
    "#Determinando a função que melhor ajusta aos dados\n",
    "def func_linear(x, m, n):\n",
    "    return m*x+n\n",
    "\n",
    "#Fazendo o curve fitting\n",
    "popt, pcov = curve_fit(func_linear, x, yData)\n",
    "print(popt)\n",
    "\n",
    "#Plotting the fitted curve\n",
    "plt.plot(x, func_linear(x, *popt), 'r', label ='curve fit')\n",
    "plt.xlabel('Mês')\n",
    "plt.ylabel('Volume de Reservas')\n",
    "plt.title('Estimativa Volume de Reservas por Mês')\n",
    "plt.savefig('estimativa_volume_mes.png', bbox_inches='tight')\n",
    "plt.show()\n",
    "\n",
    "#Coeficiente linear\n",
    "m = 89.44848439\n",
    "n = -154.1151476"
   ]
  },
  {
   "cell_type": "code",
   "execution_count": 17,
   "metadata": {},
   "outputs": [
    {
     "name": "stdout",
     "output_type": "stream",
     "text": [
      "O volume estimado de reservas para o mês de Janeiro de 2020 é de  1009\n",
      "A receita média bruta para o mês de Janeiro de 2020 é de 124659.13\n",
      "O volume estimado de reservas para o mês de Fevereiro de 2020 é de  1098\n",
      "A receita média bruta para o mês de Fevereiro de 2020 é de 140170.45\n"
     ]
    }
   ],
   "source": [
    "#Estimativa do volume de reservas e de receitas para Jan 20' e Fev 20'\n",
    "\n",
    "#Jan 20'\n",
    "volume_estimado_jan = m*13+n\n",
    "receita_estimada_janeiro = volume_estimado_jan*forecast_jan\n",
    "print('O volume estimado de reservas para o mês de Janeiro de 2020 é de ', round(volume_estimado_jan))\n",
    "print('A receita média bruta para o mês de Janeiro de 2020 é de', round(receita_estimada_janeiro,2))\n",
    "\n",
    "#Fev 20'\n",
    "volume_estimado_fev = m*14+n\n",
    "receita_estimada_fevereiro = volume_estimado_fev*forecast_fev\n",
    "print('O volume estimado de reservas para o mês de Fevereiro de 2020 é de ', round(volume_estimado_fev))\n",
    "print('A receita média bruta para o mês de Fevereiro de 2020 é de', round(receita_estimada_fevereiro,2))\n"
   ]
  },
  {
   "cell_type": "markdown",
   "metadata": {},
   "source": [
    "Também é possível extrairmos a porcentagem em que cada site têm sobre o total de reservas efetuadas:"
   ]
  },
  {
   "cell_type": "code",
   "execution_count": 18,
   "metadata": {},
   "outputs": [
    {
     "name": "stdout",
     "output_type": "stream",
     "text": [
      "O número total de reservas efetuadas é de 4449\n",
      "O número total de reservas efetuadas somente pelo Site A é de 3271\n",
      "A porcentagem de reservas efetuadas pelo Site A é de 73.5 %\n",
      "A porcentagem de reservas efetuadas pelo Site B é de 26.5 %\n"
     ]
    }
   ],
   "source": [
    "#Número total de reservas do nosso dataframe\n",
    "reservas_totais = keycash.shape[0]\n",
    "print('O número total de reservas efetuadas é de', reservas_totais)\n",
    "\n",
    "#Verificando a quantidade de reservas que são do Site A e do Site B\n",
    "\n",
    "#Site A\n",
    "site_a = keycash[keycash['fonte'] == 'Site A']\n",
    "site_a_total = site_a.shape[0]\n",
    "print('O número total de reservas efetuadas somente pelo Site A é de', site_a_total)\n",
    "print('A porcentagem de reservas efetuadas pelo Site A é de', round(100*site_a_total/reservas_totais,1),'%')\n",
    "\n",
    "#Site B - apenas subtrair a porcentagem de A de 100%\n",
    "print('A porcentagem de reservas efetuadas pelo Site B é de', 100-73.5,'%')"
   ]
  },
  {
   "cell_type": "markdown",
   "metadata": {},
   "source": [
    "Observamos primeiro que apesar do Site A ter a menor taxa de serviço, o mesmo site é responsável pela grande maioria das reservas efetuadas.\n",
    "\n",
    "Os valores referentes a custo operacional por unidade extrapolam o valor médio por unidade que foi calculado e estimado para os meses de Janeiro de 2019 até Janeiro de 2020. Sendo assim, em média cada unidade estaria dando prejuízos a empresa, oque compromete a saúde financeira da mesma.\n",
    "\n",
    "Uma possível solução é reavaliar a quantia gasta em despesas fixas, no qual é o maior montante referente a custos por unidade, de modo que o valor médio por unidade seja maior, ocasionando lucro por cada unidade reservada. Temos também apenas dados de custo operacional para o mês de Julho, e observamos que o custo operacional de pessoas é alto comparado ao valor médio de uma unidade calculado. Isso também contribui negativamente para a saúde do negocio, no qual é desejável que o valor de cada unidade supere os gastos por unidade.\n",
    "\n",
    "Além disso, os gráficos avaliam um período de apenas um ano. Seria ideal obter dados sobre um período maior para assim identificar possíveis tendências como sazonalidade. As curvas de regressão escolhidas(exponencial e linear) se baseiam nesse fato de estarmos trabalhando com um curto período. Provavelmente uma curva com uma certa periodicidade seria observada, levando em conta por exemplo que nos meses do último trimestre, devido a datas festivas, devem concentrar um maior volume de reservas.\n",
    "\n",
    "Observa-se inclusive que no mês de Dezembro a receita bruta média é muito abaixo do esperado, e assim identificamos que algo nesse período deve ter ocorrido, oque resultou nessa baixa de valor de receita. \n",
    "\n",
    "O gráfico de estimativa de crescimento de unidades por mês por exemplo, seria esperado observar uma curva logística, porém pela falta de um período mais longo para ser analisado, foi escolhida a curva exponencial para analisar a tendência, na qual a primeira instância é uma boa curva para descrição desses dados.\n",
    "\n"
   ]
  }
 ],
 "metadata": {
  "kernelspec": {
   "display_name": "Python 3",
   "language": "python",
   "name": "python3"
  },
  "language_info": {
   "codemirror_mode": {
    "name": "ipython",
    "version": 3
   },
   "file_extension": ".py",
   "mimetype": "text/x-python",
   "name": "python",
   "nbconvert_exporter": "python",
   "pygments_lexer": "ipython3",
   "version": "3.6.8"
  }
 },
 "nbformat": 4,
 "nbformat_minor": 2
}
